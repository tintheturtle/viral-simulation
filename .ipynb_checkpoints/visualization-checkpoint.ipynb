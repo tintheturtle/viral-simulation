{
 "cells": [
  {
   "cell_type": "code",
   "execution_count": 118,
   "metadata": {},
   "outputs": [
    {
     "data": {
      "image/png": "[encoded data removed]",
      "text/plain": [
       "<Figure size 432x288 with 1 Axes>"
      ]
     },
     "metadata": {
      "needs_background": "light"
     },
     "output_type": "display_data"
    }
   ],
   "source": [
    "# import libraries \n",
    "from matplotlib import pyplot as plt  \n",
    "import numpy as np   \n",
    "from collections import Counter\n",
    "\n",
    "def read_file(file):\n",
    "\n",
    "    output = \"\"\n",
    "    with open(file, 'r') as f:\n",
    "        output = f.readlines()\n",
    "\n",
    "    split_index = output.index(\"\\n\")\n",
    "\n",
    "    output = [s.strip('\\n') for s in output]\n",
    "\n",
    "    probabilities = [ float(num) for num in output[:split_index] ]\n",
    "    average_days = [ int(num) for num in output[split_index+1:] if num!= 'inf' ]\n",
    "    return probabilities, average_days\n",
    "\n",
    "\n",
    "file_list = ['outbreak_output1.txt', 'outbreak_output3.txt', 'outbreak_output5.txt', 'outbreak_output7.txt']\n",
    "colors = ['purple', 'green', 'blue', 'yellow']\n",
    "\n",
    "for index in range(len(file_list)):\n",
    "    probabilities, average_days= read_file(file_list[index])\n",
    "        \n",
    "    plt.plot(sorted(probabilities)[::-1], color=colors[index])\n",
    "    plt.subplots_adjust(left=0, bottom=0, right=1, top=1, wspace=0, hspace=0)\n",
    "  \n",
    "      # Creating plot \n",
    "#     fig = plt.figure(figsize =(10, 7)) \n",
    "\n",
    "# #     plt.hist(sorted(average_days), bins=range(0, 100))  \n",
    "\n",
    "#     plt.title(\"Numpy Histogram\")  \n",
    "\n",
    "# show plot \n",
    "plt.show() "
   ]
  },
  {
   "cell_type": "code",
   "execution_count": null,
   "metadata": {},
   "outputs": [],
   "source": []
  },
  {
   "cell_type": "code",
   "execution_count": null,
   "metadata": {},
   "outputs": [],
   "source": []
  }
 ],
 "metadata": {
  "kernelspec": {
   "display_name": "Python 3",
   "language": "python",
   "name": "python3"
  },
  "language_info": {
   "codemirror_mode": {
    "name": "ipython",
    "version": 3
   },
   "file_extension": ".py",
   "mimetype": "text/x-python",
   "name": "python",
   "nbconvert_exporter": "python",
   "pygments_lexer": "ipython3",
   "version": "3.7.1"
  }
 },
 "nbformat": 4,
 "nbformat_minor": 2
}
